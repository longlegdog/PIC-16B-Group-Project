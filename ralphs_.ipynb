{
 "cells": [
  {
   "cell_type": "code",
   "execution_count": null,
   "id": "3df89119-e5bd-463e-a313-334cc0ada4d0",
   "metadata": {},
   "outputs": [],
   "source": [
    "'''\n",
    "client id = \n",
    "pic16bralphsproject-2432612430342441774c683551794d774d363142475571574978582e4f556f682e535843714f39634371486d513949536b36416e634850502e6b30578177261567869932466\n",
    "client secret =\n",
    "Q8DpUa-2BtFmCyABTf6NlNCXjsGrtpLOqjYBdWtf\n",
    "'''"
   ]
  },
  {
   "cell_type": "code",
   "execution_count": 16,
   "id": "d71a8316-1ef1-477e-90cc-9a273cdb78d3",
   "metadata": {},
   "outputs": [
    {
     "name": "stdout",
     "output_type": "stream",
     "text": [
      "Access Token: eyJhbGciOiJSUzI1NiIsImprdSI6Imh0dHBzOi8vYXBpLWNlLmtyb2dlci5jb20vdjEvLndlbGwta25vd24vandrcy5qc29uIiwia2lkIjoidnl6bG52Y3dSUUZyRzZkWDBzU1pEQT09IiwidHlwIjoiSldUIn0.eyJhdWQiOiJwaWMxNmJyYWxwaHNwcm9qZWN0LTI0MzI2MTI0MzAzNDI0NDE3NzRjNjgzNTUxNzk0ZDc3NGQzNjMxNDI0NzU1NzE1NzQ5Nzg1ODJlNGY1NTZmNjgyZTUzNTg0MzcxNGYzOTYzNDM3MTQ4NmQ1MTM5NDk1MzZiMzY0MTZlNjM0ODUwNTAyZTZiMzA1NzgxNzcyNjE1Njc4Njk5MzI0NjYiLCJleHAiOjE3MzA3NTkwOTUsImlhdCI6MTczMDc1NzI5MCwiaXNzIjoiYXBpLWNlLmtyb2dlci5jb20iLCJzdWIiOiI4MzdhZWI4Zi01NjM3LTUxNTQtOGE1MC0wNjc5YjZhYzZjYmEiLCJzY29wZSI6InByb2R1Y3QuY29tcGFjdCIsImF1dGhBdCI6MTczMDc1NzI5NTg0NjE2MzI5NSwiYXpwIjoicGljMTZicmFscGhzcHJvamVjdC0yNDMyNjEyNDMwMzQyNDQxNzc0YzY4MzU1MTc5NGQ3NzRkMzYzMTQyNDc1NTcxNTc0OTc4NTgyZTRmNTU2ZjY4MmU1MzU4NDM3MTRmMzk2MzQzNzE0ODZkNTEzOTQ5NTM2YjM2NDE2ZTYzNDg1MDUwMmU2YjMwNTc4MTc3MjYxNTY3ODY5OTMyNDY2In0.qBnXB_bK4JWVGuK85mKKBSBswDRffYol-mdzSFFub17ym-arfGhnKx9aMcefdZfbO51pP83s-VIh4bFK-80a9K923quyIUVVZtiCFwmkNLdCCX5hIWwoZiUEE_xna3fsFakTNr5J3zK4yFgKQ3FYZLH8DB2Po5hBQogmwVo9rEkDHXi7Pp3bqUlHbsT4bDL_vJxL7knKqw6pudLQXJGv-e_DoNjgymM2mi090m7ti7El2lIlk7V1-AbmWCZMmrmO2Acb5ofkiKHc-SW1qq_T-IwZU1T_7lTbv0WpXaIMI-m4FieydonCdee-r0PBmcMpliMSbK9hn06vvBKgO2nzXg\n"
     ]
    }
   ],
   "source": [
    "import requests\n",
    "from requests.auth import HTTPBasicAuth\n",
    "\n",
    "client_id = \"pic16bralphsproject-2432612430342441774c683551794d774d363142475571574978582e4f556f682e535843714f39634371486d513949536b36416e634850502e6b30578177261567869932466\"\n",
    "client_secret = \"Q8DpUa-2BtFmCyABTf6NlNCXjsGrtpLOqjYBdWtf\"\n",
    "\n",
    "auth_url = \"https://api-ce.kroger.com/v1/connect/oauth2/token\"\n",
    "\n",
    "# Make a POST request to get the access token\n",
    "response = requests.post(\n",
    "    auth_url,\n",
    "    auth=HTTPBasicAuth(client_id, client_secret),\n",
    "    headers={\"Content-Type\": \"application/x-www-form-urlencoded\"},\n",
    "    data={\"grant_type\": \"client_credentials\", \"scope\": \"product.compact\"}\n",
    ")\n",
    "\n",
    "# Check if the request was successful and extract the token\n",
    "if response.status_code == 200:\n",
    "    access_token = response.json().get(\"access_token\")\n",
    "    print(\"Access Token:\", access_token)\n",
    "else:\n",
    "    print(\"Failed to get access token. Status Code:\", response.status_code)\n",
    "    print(\"Response Text:\", response.text)\n"
   ]
  },
  {
   "cell_type": "code",
   "execution_count": 17,
   "id": "ce927a09-1ec7-4f61-9873-b379fa9898c1",
   "metadata": {},
   "outputs": [
    {
     "name": "stdout",
     "output_type": "stream",
     "text": [
      "\n",
      "Location ID: 70300759\n",
      "Store Name: Ralphs Fresh Fare - Westwood\n",
      "Address: 10861 Weyburn Ave\n",
      "City: Los Angeles\n",
      "State: CA\n",
      "ZIP Code: 90024\n",
      "----------------------------------------\n",
      "\n",
      "Location ID: 70300156\n",
      "Store Name: Ralphs Fresh Fare - Century City\n",
      "Address: 10309 W Olympic Blvd\n",
      "City: Los Angeles\n",
      "State: CA\n",
      "ZIP Code: 90064\n",
      "----------------------------------------\n",
      "\n",
      "Location ID: 70300044\n",
      "Store Name: Ralphs Fresh Fare - Bundy\n",
      "Address: 12057 Wilshire Blvd\n",
      "City: Los Angeles\n",
      "State: CA\n",
      "ZIP Code: 90025\n",
      "----------------------------------------\n",
      "\n",
      "Location ID: 70300210\n",
      "Store Name: Ralphs Fresh Fare - Olympic Barrington\n",
      "Address: 11727 W Olympic Blvd\n",
      "City: Los Angeles\n",
      "State: CA\n",
      "ZIP Code: 90064\n",
      "----------------------------------------\n",
      "\n",
      "Location ID: 70300709\n",
      "Store Name: Ralphs - Westdale S C\n",
      "Address: 11361 National Blvd\n",
      "City: Los Angeles\n",
      "State: CA\n",
      "ZIP Code: 90064\n",
      "----------------------------------------\n"
     ]
    }
   ],
   "source": [
    "headers = {\n",
    "    \"Authorization\": f\"Bearer {access_token}\",\n",
    "    \"Accept\": \"application/json\"\n",
    "}\n",
    "# Make the API request to get locations near the specified ZIP code\n",
    "response = requests.get(\n",
    "    \"https://api-ce.kroger.com/v1/locations\",\n",
    "    headers=headers,\n",
    "    params={\"filter.zipCode.near\": \"90024\", \"filter.limit\": 5}  # Replace with your ZIP code\n",
    ")\n",
    "\n",
    "# Check if the request was successful\n",
    "if response.status_code == 200:\n",
    "    # Parse the JSON response\n",
    "    data = response.json().get(\"data\", [])\n",
    "    # Print each location's details\n",
    "    for location in data:\n",
    "        location_id = location.get(\"locationId\")\n",
    "        name = location.get(\"name\")\n",
    "        address = location.get(\"address\", {})\n",
    "        address_line1 = address.get(\"addressLine1\")\n",
    "        city = address.get(\"city\")\n",
    "        state = address.get(\"state\")\n",
    "        zip_code = address.get(\"zipCode\")\n",
    "\n",
    "        # Print out formatted details for each location\n",
    "        print(\"\\nLocation ID:\", location_id)\n",
    "        print(\"Store Name:\", name)\n",
    "        print(\"Address:\", address_line1)\n",
    "        print(\"City:\", city)\n",
    "        print(\"State:\", state)\n",
    "        print(\"ZIP Code:\", zip_code)\n",
    "        print(\"-\" * 40)\n",
    "else:\n",
    "    print(\"Error:\", response.status_code, response.json())\n"
   ]
  },
  {
   "cell_type": "markdown",
   "id": "e49e6fbd-ebeb-4400-8125-7b6531a1f196",
   "metadata": {},
   "source": [
    "* Location ID: 70300759\n",
    "* Store Name: Ralphs Fresh Fare - Westwood\n",
    "* Address: 10861 Weyburn Ave\n",
    "* City: Los Angeles\n",
    "* State: CA\n",
    "* ZIP Code: 90024"
   ]
  },
  {
   "cell_type": "code",
   "execution_count": 30,
   "id": "b4510aeb-c2b0-4fc0-b50d-d89bab6642ef",
   "metadata": {},
   "outputs": [
    {
     "name": "stdout",
     "output_type": "stream",
     "text": [
      "Product Name: Kroger® Spreadable Butter with Canola Oil\n",
      "Brand: Kroger\n",
      "Category: Dairy\n",
      "Size: 8 oz\n",
      "Price: None\n",
      "----------------------------------------\n",
      "Product Name: Country Crock Dairy Free Olive Oil Plant Butter\n",
      "Brand: Country Crock\n",
      "Category: Dairy\n",
      "Size: 16 oz\n",
      "Price: None\n",
      "----------------------------------------\n",
      "Product Name: Land O’ Lakes Canola Oil Light Butter Spread\n",
      "Brand: Land O' Lakes\n",
      "Category: Dairy\n",
      "Size: 8 oz\n",
      "Price: None\n",
      "----------------------------------------\n",
      "Product Name: Simple Truth Organic™ Salted Butter\n",
      "Brand: Simple Truth Organic\n",
      "Category: Natural & Organic\n",
      "Size: 16 oz\n",
      "Price: None\n",
      "----------------------------------------\n"
     ]
    }
   ],
   "source": [
    "# Make the API request\n",
    "headers = {\n",
    "    \"Authorization\": f\"Bearer {access_token}\",\n",
    "    \"Accept\": \"application/json\"\n",
    "}\n",
    "#, \"filter.locationId\": \"70300759\"\n",
    "params ={\"filter.term\":\"butter\"}\n",
    "\n",
    "response = requests.get(\"https://api-ce.kroger.com/v1/products\", headers=headers, params=params)\n",
    "\n",
    "# Check if the request was successful\n",
    "if response.status_code == 200:\n",
    "    try:\n",
    "        data = response.json().get(\"data\", [])\n",
    "        for product in data:\n",
    "            print(\"Product Name:\", product.get(\"description\"))\n",
    "            print(\"Brand:\", product.get(\"brand\"))\n",
    "            print(\"Category:\", product.get(\"categories\", [None])[0])\n",
    "            print(\"Size:\", product.get(\"items\", [{}])[0].get(\"size\"))\n",
    "            print(\"Price:\", product.get(\"items\", [{}])[0].get(\"price\", {}).get(\"regular\"))\n",
    "            print(\"-\" * 40)\n",
    "    except requests.JSONDecodeError:\n",
    "        print(\"Error parsing JSON response.\")\n",
    "else:\n",
    "    # Print status code and raw text if the response is not JSON\n",
    "    print(\"Request failed.\")\n",
    "    print(\"Status Code:\", response.status_code)\n",
    "    print(\"Response Text:\", response.text)\n"
   ]
  },
  {
   "cell_type": "code",
   "execution_count": null,
   "id": "3c4c0f91-a3b3-4dcc-8d3a-0063efd83009",
   "metadata": {},
   "outputs": [],
   "source": []
  }
 ],
 "metadata": {
  "kernelspec": {
   "display_name": "Python 3 (ipykernel)",
   "language": "python",
   "name": "python3"
  },
  "language_info": {
   "codemirror_mode": {
    "name": "ipython",
    "version": 3
   },
   "file_extension": ".py",
   "mimetype": "text/x-python",
   "name": "python",
   "nbconvert_exporter": "python",
   "pygments_lexer": "ipython3",
   "version": "3.12.4"
  }
 },
 "nbformat": 4,
 "nbformat_minor": 5
}
