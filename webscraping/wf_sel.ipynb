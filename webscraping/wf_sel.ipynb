{
 "cells": [
  {
   "cell_type": "code",
   "execution_count": 12,
   "id": "aae49840-b23e-4b06-af68-18757c0c29f2",
   "metadata": {},
   "outputs": [
    {
     "name": "stdout",
     "output_type": "stream",
     "text": [
      "Store column added successfully!\n"
     ]
    }
   ],
   "source": [
    "import pandas as pd\n",
    "\n",
    "# Load the existing CSV file\n",
    "csv_file = 'target_.csv'  # Replace with your file path if different\n",
    "df = pd.read_csv(csv_file)\n",
    "\n",
    "# Add the \"Store\" column with the value \"Whole Foods\"\n",
    "df['Store'] = 'Target'\n",
    "\n",
    "# Save the updated DataFrame back to the CSV\n",
    "df.to_csv(csv_file, index=False)\n",
    "\n",
    "print(\"Store column added successfully!\")\n"
   ]
  },
  {
   "cell_type": "code",
   "execution_count": 1,
   "id": "22ff4371-06db-488e-9f17-257f0864a03a",
   "metadata": {},
   "outputs": [
    {
     "name": "stdout",
     "output_type": "stream",
     "text": [
      "Scraping category: Fresh Produce, URL: https://www.wholefoodsmarket.com/search?text=fresh+produce\n",
      "Scraping category: Fresh Produce, URL: https://www.wholefoodsmarket.com/search?text=vegetables\n",
      "Scraping category: Fresh Produce, URL: https://www.wholefoodsmarket.com/search?text=fruit\n",
      "Scraping category: Meat & Seafood, URL: https://www.wholefoodsmarket.com/search?text=meat\n",
      "Scraping category: Meat & Seafood, URL: https://www.wholefoodsmarket.com/search?text=seafood\n",
      "Scraping category: Meat & Seafood, URL: https://www.wholefoodsmarket.com/search?text=chicken\n",
      "Scraping category: Meat & Seafood, URL: https://www.wholefoodsmarket.com/search?text=pork\n",
      "Scraping category: Snacks, URL: https://www.wholefoodsmarket.com/search?text=snacks\n",
      "Scraping category: Snacks, URL: https://www.wholefoodsmarket.com/search?text=chips\n",
      "Scraping category: Beverages, URL: https://www.wholefoodsmarket.com/search?text=beverages\n",
      "Scraping category: Beverages, URL: https://www.wholefoodsmarket.com/search?text=soda\n",
      "Scraping category: Breakfast & Cereal, URL: https://www.wholefoodsmarket.com/search?text=breakfast\n",
      "Scraping category: Breakfast & Cereal, URL: https://www.wholefoodsmarket.com/search?text=cereal\n",
      "Scraping category: Bakery, URL: https://www.wholefoodsmarket.com/search?text=bakery\n",
      "Scraping category: Dairy & Eggs, URL: https://www.wholefoodsmarket.com/search?text=dairy+and+eggs\n",
      "Scraping category: Dairy & Eggs, URL: https://www.wholefoodsmarket.com/search?text=milk\n",
      "Scraping category: Dairy & Eggs, URL: https://www.wholefoodsmarket.com/search?text=cheese\n",
      "Scraping category: Frozen, URL: https://www.wholefoodsmarket.com/search?text=frozen\n",
      "Data scraping complete. Products saved to 'wholefoods.csv'.\n"
     ]
    }
   ],
   "source": [
    "from selenium import webdriver\n",
    "from selenium.webdriver.common.by import By\n",
    "from selenium.webdriver.common.keys import Keys\n",
    "from selenium.webdriver.chrome.service import Service\n",
    "import pandas as pd\n",
    "import time\n",
    "import re\n",
    "\n",
    "# Webdriver setup\n",
    "chrome_path = 'C:\\\\Users\\\\nwang\\\\chromedriver.exe'\n",
    "service = Service(chrome_path)\n",
    "driver = webdriver.Chrome(service=service)\n",
    "\n",
    "# Define categories with search URLs\n",
    "categories = {\n",
    "    \"Fresh Produce\": [\"https://www.wholefoodsmarket.com/search?text=fresh+produce\",\n",
    "                     \"https://www.wholefoodsmarket.com/search?text=vegetables\",\n",
    "                     \"https://www.wholefoodsmarket.com/search?text=fruit\"],\n",
    "    \"Meat & Seafood\": [\n",
    "        \"https://www.wholefoodsmarket.com/search?text=meat\",\n",
    "        \"https://www.wholefoodsmarket.com/search?text=seafood\",\n",
    "        \"https://www.wholefoodsmarket.com/search?text=chicken\",\n",
    "        \"https://www.wholefoodsmarket.com/search?text=pork\"\n",
    "    ],\n",
    "    \"Snacks\": [\"https://www.wholefoodsmarket.com/search?text=snacks\",\n",
    "              \"https://www.wholefoodsmarket.com/search?text=chips\"],\n",
    "    \"Beverages\": [\"https://www.wholefoodsmarket.com/search?text=beverages\",\n",
    "                 \"https://www.wholefoodsmarket.com/search?text=soda\"],\n",
    "    \"Breakfast & Cereal\": [\n",
    "        \"https://www.wholefoodsmarket.com/search?text=breakfast\",\n",
    "        \"https://www.wholefoodsmarket.com/search?text=cereal\"\n",
    "    ],\n",
    "    \"Bakery\": [\"https://www.wholefoodsmarket.com/search?text=bakery\"],\n",
    "    \"Dairy & Eggs\": [\"https://www.wholefoodsmarket.com/search?text=dairy+and+eggs\",\n",
    "                    \"https://www.wholefoodsmarket.com/search?text=milk\",\n",
    "                    \"https://www.wholefoodsmarket.com/search?text=cheese\"],\n",
    "    \"Frozen\": [\"https://www.wholefoodsmarket.com/search?text=frozen\"]\n",
    "}\n",
    "\n",
    "# List to hold scraped product data\n",
    "data = []\n",
    "\n",
    "# Regex pattern to find quantities (e.g., \"3 lbs\", \"1.13-2.75 lbs\")\n",
    "quantity_pattern = re.compile(r'(\\d+\\.?\\d*\\s*(?:lb|lbs|oz|ct|pk|fl oz))', re.IGNORECASE)\n",
    "\n",
    "# Loop through each category and its URLs\n",
    "for category, urls in categories.items():\n",
    "    for url in urls:  # Handle multiple URLs per category\n",
    "        print(f\"Scraping category: {category}, URL: {url}\")\n",
    "        driver.get(url)\n",
    "        time.sleep(3)  # Wait for the page to load\n",
    "\n",
    "        # Scroll to load products\n",
    "        for _ in range(5):\n",
    "            driver.find_element(By.TAG_NAME, 'body').send_keys(Keys.END)\n",
    "            time.sleep(2)\n",
    "\n",
    "        # Find product elements\n",
    "        products = driver.find_elements(By.CLASS_NAME, 'w-pie--product-tile__content')\n",
    "\n",
    "        # Iterate through the products and prices\n",
    "        for product in products:\n",
    "            try:\n",
    "                name = product.find_element(By.XPATH, './/h2[@data-testid=\"product-tile-name\"]').text\n",
    "            except:\n",
    "                name = \"No name\"\n",
    "\n",
    "            try:\n",
    "                brand = product.find_element(By.XPATH, './/span[@data-testid=\"product-tile-brand\"]').text\n",
    "            except:\n",
    "                brand = \"No brand\"\n",
    "\n",
    "            try:\n",
    "                price_text = product.find_element(By.XPATH, './/span[contains(@class, \"text-left bds--heading-5\")]').text\n",
    "            except:\n",
    "                price_text = \"No price\"\n",
    "\n",
    "            # Combine name and brand\n",
    "            full_name = f\"{name} - {brand}\" if brand != \"No brand\" else name\n",
    "\n",
    "            # Extract quantity from product name\n",
    "            quantity_match = quantity_pattern.search(name)\n",
    "            quantity_text = quantity_match.group(1) if quantity_match else \"1\"  # Default if quantity is not found\n",
    "\n",
    "            # Append data to the list\n",
    "            data.append({\n",
    "                \"Category\": category,\n",
    "                \"Name\": full_name,  # Updated name with brand\n",
    "                \"Price\": price_text,\n",
    "                \"Quantity\": quantity_text\n",
    "            })\n",
    "\n",
    "# Create DataFrame and save to CSV\n",
    "df = pd.DataFrame(data)\n",
    "df.to_csv('wholefoods.csv', index=False)\n",
    "\n",
    "# Clean up and close the driver\n",
    "driver.quit()\n",
    "\n",
    "print(\"Data scraping complete. Products saved to 'wholefoods.csv'.\")\n"
   ]
  },
  {
   "cell_type": "code",
   "execution_count": 2,
   "id": "2eddd3ff-cebd-4407-a5d3-f1bdc387a6e9",
   "metadata": {},
   "outputs": [
    {
     "name": "stdout",
     "output_type": "stream",
     "text": [
      "Rows with 'No price' removed and 'Store' column added. Cleaned data saved to 'wholefoods_cleaned.csv'.\n"
     ]
    }
   ],
   "source": [
    "import pandas as pd\n",
    "\n",
    "# Load the CSV file\n",
    "csv_file = 'wholefoods.csv'  # Replace with your file path if different\n",
    "df = pd.read_csv(csv_file)\n",
    "\n",
    "# Filter out rows where the \"Price\" column is \"No price\"\n",
    "df = df[df['Price'] != \"No price\"]\n",
    "\n",
    "# Add the \"Store\" column with the value \"Whole Foods\"\n",
    "df['Store'] = 'Whole Foods'\n",
    "\n",
    "#drop duplicates\n",
    "df = df.drop_duplicates(subset='Name', keep='first')\n",
    "\n",
    "\n",
    "# Save the updated DataFrame back to the CSV\n",
    "df.to_csv('wholefoods_cleaned.csv', index=False)\n",
    "\n",
    "print(\"Rows with 'No price' removed and 'Store' column added. Cleaned data saved to 'wholefoods_cleaned.csv'.\")\n",
    "\n"
   ]
  },
  {
   "cell_type": "code",
   "execution_count": 20,
   "id": "77276a92-a8dd-46a4-bdae-2cf2780c3b26",
   "metadata": {},
   "outputs": [
    {
     "name": "stdout",
     "output_type": "stream",
     "text": [
      "Rows with 'max price' and price ranges removed. 'Store' column added. Cleaned data saved to 'target_cleaned.csv'.\n"
     ]
    }
   ],
   "source": [
    "import pandas as pd\n",
    "\n",
    "# Load the CSV file\n",
    "csv_file = 'target_.csv'  # Replace with your file path if different\n",
    "df = pd.read_csv(csv_file)\n",
    "\n",
    "# Filter out rows where the \"Price\" column is \"max price\"\n",
    "df = df[df['Price'] != \"max price\"]\n",
    "\n",
    "# Filter out rows where the price is a range (contains \" - \")\n",
    "df = df[~df['Price'].str.contains(r'\\s-\\s', na=False)]\n",
    "\n",
    "# Save the cleaned DataFrame to a new CSV file\n",
    "df.to_csv('target_cleaned.csv', index=False)\n",
    "\n",
    "print(\"Rows with 'max price' and price ranges removed. 'Store' column added. Cleaned data saved to 'target_cleaned.csv'.\")\n"
   ]
  },
  {
   "cell_type": "code",
   "execution_count": 3,
   "id": "0f0f536e-803e-4958-b12c-1afe152b9a10",
   "metadata": {},
   "outputs": [
    {
     "name": "stdout",
     "output_type": "stream",
     "text": [
      "CSV files combined successfully. Data saved to 'combined_data.csv'.\n"
     ]
    }
   ],
   "source": [
    "import pandas as pd\n",
    "\n",
    "# Load the cleaned Whole Foods CSV\n",
    "wholefoods_file = 'wholefoods_cleaned.csv'\n",
    "df_wholefoods = pd.read_csv(wholefoods_file)\n",
    "\n",
    "# Load the cleaned Target CSV\n",
    "target_file = 'target_cleaned.csv'\n",
    "df_target = pd.read_csv(target_file)\n",
    "\n",
    "# Combine the two DataFrames\n",
    "df_combined = pd.concat([df_wholefoods, df_target], ignore_index=True)\n",
    "\n",
    "# Save the combined DataFrame to a new CSV\n",
    "df_combined.to_csv('combined_data.csv', index=False)\n",
    "\n",
    "print(\"CSV files combined successfully. Data saved to 'combined_data.csv'.\")\n"
   ]
  },
  {
   "cell_type": "code",
   "execution_count": 4,
   "id": "e797f8cf-42ee-4abc-9358-fa1631bbea13",
   "metadata": {},
   "outputs": [
    {
     "name": "stdout",
     "output_type": "stream",
     "text": [
      "Price/Quantity column added successfully. Data saved to 'target_and_wholefoods.csv'.\n"
     ]
    }
   ],
   "source": [
    "import pandas as pd\n",
    "\n",
    "# Load the combined CSV file\n",
    "combined_file = 'combined_data.csv'\n",
    "df = pd.read_csv(combined_file)\n",
    "\n",
    "# Function to calculate price per quantity\n",
    "def calculate_price_per_quantity(row):\n",
    "    try:\n",
    "        # Extract numeric price and quantity\n",
    "        price = float(row['Price'].replace('$', '').strip())  # Convert price to float\n",
    "        quantity = row['Quantity']\n",
    "        \n",
    "        # Parse the numeric value and unit from quantity\n",
    "        if quantity != \"1\":\n",
    "            quantity_value, unit = quantity.split()  # Separate number and unit\n",
    "            quantity_value = float(quantity_value)  # Convert quantity value to float\n",
    "            \n",
    "            # Calculate price per unit\n",
    "            price_per_unit = price / quantity_value\n",
    "            return f\"${price_per_unit:.2f}/{unit}\"  # Return formatted price per unit\n",
    "        else:\n",
    "            return row['Price']  # Return price if quantity is 1\n",
    "    except:\n",
    "        return \"N/A\"  # Return \"N/A\" if calculation fails\n",
    "\n",
    "# Apply the function to create the \"Price/Quantity\" column\n",
    "df['Price/Quantity'] = df.apply(calculate_price_per_quantity, axis=1)\n",
    "\n",
    "# Save the updated DataFrame to a new CSV file\n",
    "df.to_csv('target_and_wholefoods.csv', index=False)\n",
    "\n",
    "print(\"Price/Quantity column added successfully. Data saved to 'target_and_wholefoods.csv'.\")\n"
   ]
  },
  {
   "cell_type": "code",
   "execution_count": 5,
   "id": "8a85d07c-6310-405f-9d4c-03527015253e",
   "metadata": {},
   "outputs": [
    {
     "name": "stdout",
     "output_type": "stream",
     "text": [
      "Price/Quantity column updated successfully. Data saved to 'cleaned_combined_data_with_price_per_quantity.csv'.\n"
     ]
    }
   ],
   "source": [
    "import pandas as pd\n",
    "\n",
    "# Load the CSV file\n",
    "combined_file = 'target_and_wholefoods.csv'  # Replace with your file path if different\n",
    "df = pd.read_csv(combined_file)\n",
    "\n",
    "# Function to calculate price per quantity\n",
    "def calculate_price_per_quantity(row):\n",
    "    try:\n",
    "        # Extract numeric price\n",
    "        price = float(row['Price'].replace('$', '').strip())\n",
    "        \n",
    "        # Extract numeric value and unit from Quantity\n",
    "        quantity = row['Quantity']\n",
    "        if quantity != \"1\":\n",
    "            quantity_value, unit = quantity[:-2], quantity[-2:]  # Split number and unit (e.g., \"2pk\")\n",
    "            quantity_value = float(quantity_value)  # Convert quantity value to float\n",
    "            \n",
    "            # Calculate price per unit\n",
    "            price_per_unit = price / quantity_value\n",
    "            return f\"${price_per_unit:.2f}/{unit}\"  # Return formatted price per unit\n",
    "        else:\n",
    "            return \"N/A\"\n",
    "    except:\n",
    "        return \"N/A\"  # Return \"N/A\" if calculation fails\n",
    "\n",
    "# Apply the function to create/update the \"Price/Quantity\" column\n",
    "df['Price/Quantity'] = df.apply(calculate_price_per_quantity, axis=1)\n",
    "\n",
    "# Save the updated DataFrame to a new CSV file\n",
    "df.to_csv('cleaned_combined_data_with_price_per_quantity.csv', index=False)\n",
    "\n",
    "print(\"Price/Quantity column updated successfully. Data saved to 'cleaned_combined_data_with_price_per_quantity.csv'.\")\n"
   ]
  },
  {
   "cell_type": "code",
   "execution_count": 26,
   "id": "05346d43-aece-440c-89da-b77ae81dfc04",
   "metadata": {},
   "outputs": [
    {
     "name": "stdout",
     "output_type": "stream",
     "text": [
      "CSV file 'cleaned_target+wf.csv' successfully converted to SQL database 'products_database.db' with table 'products'.\n"
     ]
    }
   ],
   "source": [
    "import pandas as pd\n",
    "import sqlite3\n",
    "\n",
    "# Load the CSV file\n",
    "csv_file = 'cleaned_target+wf.csv'  # Replace with your file path if different\n",
    "df = pd.read_csv(csv_file)\n",
    "\n",
    "# Connect to SQLite database (or create one if it doesn't exist)\n",
    "db_file = 'products_database.db'  # Name of the database file\n",
    "conn = sqlite3.connect(db_file)\n",
    "\n",
    "# Write the DataFrame to a table in the database\n",
    "table_name = 'products'\n",
    "df.to_sql(table_name, conn, if_exists='replace', index=False)\n",
    "\n",
    "# Close the connection\n",
    "conn.close()\n",
    "\n",
    "print(f\"CSV file '{csv_file}' successfully converted to SQL database '{db_file}' with table '{table_name}'.\")\n"
   ]
  }
 ],
 "metadata": {
  "kernelspec": {
   "display_name": "Python 3 (ipykernel)",
   "language": "python",
   "name": "python3"
  },
  "language_info": {
   "codemirror_mode": {
    "name": "ipython",
    "version": 3
   },
   "file_extension": ".py",
   "mimetype": "text/x-python",
   "name": "python",
   "nbconvert_exporter": "python",
   "pygments_lexer": "ipython3",
   "version": "3.12.4"
  }
 },
 "nbformat": 4,
 "nbformat_minor": 5
}
