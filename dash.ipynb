{
 "cells": [
  {
   "cell_type": "code",
   "execution_count": 2,
   "id": "7117c662-2145-4819-8b8c-c4eac955f1ae",
   "metadata": {},
   "outputs": [],
   "source": [
    "import dash\n",
    "from dash import dcc, html, Input, Output, State\n",
    "import pandas as pd\n",
    "import plotly.graph_objects as go"
   ]
  },
  {
   "cell_type": "code",
   "execution_count": 4,
   "id": "c18facaa-9ab2-4ec8-bf73-42b54a41ca98",
   "metadata": {},
   "outputs": [],
   "source": [
    "# Load the CSV file\n",
    "data_file = r'C:\\Users\\User\\Desktop\\UCLA\\fall quarter\\COMPTNG 16B\\target_and_wholefoods.csv'\n",
    "df = pd.read_csv(data_file)\n",
    "\n",
    "# Initialize Dash app\n",
    "app = dash.Dash(__name__)\n",
    "app.title = \"Grocery Price Comparison\"\n",
    "\n",
    "# Initialize a dictionary to store accumulated prices\n",
    "accumulated_prices = {\"Target\": 0, \"Wholefoods\": 0}\n",
    "\n",
    "# Define the layout\n",
    "app.layout = html.Div([\n",
    "    html.H1(\"Grocery Price Comparison\", style={'text-align': 'center'}),\n",
    "    \n",
    "    html.Div([\n",
    "        html.Label(\"Choose a Category:\"),\n",
    "        dcc.Dropdown(\n",
    "            id=\"category-dropdown\",\n",
    "            options=[{\"label\": cat, \"value\": cat} for cat in df[\"Category\"].unique()],\n",
    "            placeholder=\"Select a category\"\n",
    "        ),\n",
    "    ], style={'margin-bottom': '20px'}),\n",
    "    \n",
    "    html.Div([\n",
    "        html.Label(\"Search for a Product:\"),\n",
    "        dcc.Input(id=\"product-search\", type=\"text\", placeholder=\"Enter product name...\"),\n",
    "        html.Button(\"Search\", id=\"search-button\", n_clicks=0),\n",
    "    ], style={'margin-bottom': '20px'}),\n",
    "    \n",
    "    html.Div(id=\"product-results\", style={'margin-bottom': '20px'}),\n",
    "    \n",
    "    html.Div(id=\"price-comparison\", style={'margin-bottom': '20px'}),\n",
    "    \n",
    "    html.Div([\n",
    "        dcc.Graph(id=\"price-comparison-chart\")\n",
    "    ])\n",
    "])"
   ]
  },
  {
   "cell_type": "code",
   "execution_count": 5,
   "id": "5fa577be-0ae8-4bf4-803c-539ff47d1c58",
   "metadata": {},
   "outputs": [],
   "source": [
    "# Define callback to update product results\n",
    "@app.callback(\n",
    "    Output(\"product-results\", \"children\"),\n",
    "    Input(\"search-button\", \"n_clicks\"),\n",
    "    State(\"category-dropdown\", \"value\"),\n",
    "    State(\"product-search\", \"value\"),\n",
    "    prevent_initial_call=True\n",
    ")\n",
    "def search_products(n_clicks, category, product_name):\n",
    "    if not category or not product_name:\n",
    "        return \"Please select a category and enter a product name.\"\n",
    "    \n",
    "    # Filter data\n",
    "    filtered_df = df[(df[\"Category\"] == category) & (df[\"Name\"].str.contains(product_name, case=False))]\n",
    "    \n",
    "    if filtered_df.empty:\n",
    "        return \"No products found.\"\n",
    "    \n",
    "    # Sort by price-to-quantity ratio\n",
    "    sorted_target = filtered_df[filtered_df[\"Store\"] == \"Target\"].sort_values(\"Price/Quantity\")\n",
    "    sorted_wholefoods = filtered_df[filtered_df[\"Store\"] == \"Wholefoods\"].sort_values(\"Price/Quantity\")\n",
    "    \n",
    "    # Generate results\n",
    "    target_list = html.Ul([html.Li(f\"{row['Name']} - ${row['Price/Quantity']} per unit\") for _, row in sorted_target.iterrows()])\n",
    "    wholefoods_list = html.Ul([html.Li(f\"{row['Name']} - ${row['Price/Quantity']} per unit\") for _, row in sorted_wholefoods.iterrows()])\n",
    "    \n",
    "    return html.Div([\n",
    "        html.H3(\"Target:\"),\n",
    "        target_list,\n",
    "        html.H3(\"Wholefoods:\"),\n",
    "        wholefoods_list\n",
    "    ])\n"
   ]
  },
  {
   "cell_type": "code",
   "execution_count": 6,
   "id": "a7eb8a08-52dc-48ec-a027-ea61f1e5ce10",
   "metadata": {},
   "outputs": [
    {
     "data": {
      "text/html": [
       "\n",
       "        <iframe\n",
       "            width=\"100%\"\n",
       "            height=\"650\"\n",
       "            src=\"http://127.0.0.1:8050/\"\n",
       "            frameborder=\"0\"\n",
       "            allowfullscreen\n",
       "            \n",
       "        ></iframe>\n",
       "        "
      ],
      "text/plain": [
       "<IPython.lib.display.IFrame at 0x1dcb1aec8c0>"
      ]
     },
     "metadata": {},
     "output_type": "display_data"
    }
   ],
   "source": [
    "# Define callback to update total prices and comparison\n",
    "@app.callback(\n",
    "    [Output(\"price-comparison\", \"children\"),\n",
    "     Output(\"price-comparison-chart\", \"figure\")],\n",
    "    Input(\"search-button\", \"n_clicks\"),\n",
    "    State(\"category-dropdown\", \"value\"),\n",
    "    State(\"product-search\", \"value\"),\n",
    "    prevent_initial_call=True\n",
    ")\n",
    "def update_total_prices(n_clicks, category, product_name):\n",
    "    if not category or not product_name:\n",
    "        return \"\", go.Figure()\n",
    "    \n",
    "    # Filter data\n",
    "    filtered_df = df[(df[\"Category\"] == category) & (df[\"Name\"].str.contains(product_name, case=False))]\n",
    "    \n",
    "    if filtered_df.empty:\n",
    "        return \"No products found.\", go.Figure()\n",
    "    \n",
    "    # Accumulate prices for the first item in each store (assuming sorted by lowest price)\n",
    "    target_price = filtered_df[filtered_df[\"Store\"] == \"Target\"][\"Price/Quantity\"].min()\n",
    "    wholefoods_price = filtered_df[filtered_df[\"Store\"] == \"Wholefoods\"][\"Price/Quantity\"].min()\n",
    "    \n",
    "    if pd.notna(target_price):\n",
    "        accumulated_prices[\"Target\"] += target_price\n",
    "    if pd.notna(wholefoods_price):\n",
    "        accumulated_prices[\"Wholefoods\"] += wholefoods_price\n",
    "    \n",
    "    # Create comparison chart\n",
    "    fig = go.Figure(data=[\n",
    "        go.Bar(name=\"Target\", x=[\"Total Cost\"], y=[accumulated_prices[\"Target\"]]),\n",
    "        go.Bar(name=\"Wholefoods\", x=[\"Total Cost\"], y=[accumulated_prices[\"Wholefoods\"]])\n",
    "    ])\n",
    "    fig.update_layout(title=\"Total Price Comparison\", barmode=\"group\")\n",
    "    \n",
    "    # Display total prices\n",
    "    comparison_text = f\"Total Price: Target - ${accumulated_prices['Target']:.2f}, Wholefoods - ${accumulated_prices['Wholefoods']:.2f}\"\n",
    "    return comparison_text, fig\n",
    "\n",
    "# Run the app\n",
    "if __name__ == '__main__':\n",
    "    app.run_server(debug=True)"
   ]
  },
  {
   "cell_type": "code",
   "execution_count": null,
   "id": "d5070573-8d4b-4553-88a1-707de1cd37b7",
   "metadata": {},
   "outputs": [],
   "source": []
  }
 ],
 "metadata": {
  "kernelspec": {
   "display_name": "Python 3 (ipykernel)",
   "language": "python",
   "name": "python3"
  },
  "language_info": {
   "codemirror_mode": {
    "name": "ipython",
    "version": 3
   },
   "file_extension": ".py",
   "mimetype": "text/x-python",
   "name": "python",
   "nbconvert_exporter": "python",
   "pygments_lexer": "ipython3",
   "version": "3.12.5"
  }
 },
 "nbformat": 4,
 "nbformat_minor": 5
}
